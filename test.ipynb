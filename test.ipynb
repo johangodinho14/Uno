{
 "cells": [
  {
   "cell_type": "code",
   "execution_count": 2,
   "metadata": {},
   "outputs": [
    {
     "name": "stdout",
     "output_type": "stream",
     "text": [
      "Card count :  7\n",
      "Your cards -> \n",
      "\n",
      "1. YELLOW 3\n",
      "2. GREEN REVERSE\n",
      "3. GREEN DRAW 4\n",
      "4. YELLOW 4\n",
      "5. GREEN 5\n",
      "6. YELLOW WILD\n",
      "7. YELLOW 9\n",
      "Card count :  6\n",
      "Your cards -> \n",
      "\n",
      "1. GREEN REVERSE\n",
      "2. GREEN DRAW 4\n",
      "3. YELLOW 4\n",
      "4. GREEN 5\n",
      "5. YELLOW WILD\n",
      "6. YELLOW 9\n"
     ]
    }
   ],
   "source": [
    "from modules.card import Card\n",
    "from modules.deck import Deck\n",
    "from modules.hand import Hand\n",
    "from modules.system import System\n",
    "\n",
    "# Starting the game\n",
    "deck = Deck()\n",
    "deck.populate_deck()\n",
    "deck.shuffle()\n",
    "\n",
    "# Player hands\n",
    "player_1_hand = Hand()\n",
    "player_2_hand = Hand()\n",
    "\n",
    "# Serving cards to players\n",
    "deck.draw(player_1_hand,amount=7)\n",
    "deck.draw(player_2_hand,amount=7)\n",
    "\n",
    "player_1_hand.show_cards()\n",
    "player_1_hand.transfer_card(player_1_hand.get_cards()[0],deck)\n",
    "player_1_hand.show_cards()\n"
   ]
  },
  {
   "cell_type": "code",
   "execution_count": 4,
   "metadata": {},
   "outputs": [],
   "source": [
    "\n",
    "# player_1_hand = Hand()\n",
    "\n",
    "# print(\"The deck has \",len(deck.get_cards()))\n",
    "# print(\"Player hand has \",len(player_1_hand.get_cards()))\n",
    "\n",
    "# deck.draw(player_1_hand,10)\n",
    "\n",
    "# print(\"The deck has \",len(deck.get_cards()))\n",
    "# print(\"Player hand has \",len(player_1_hand.get_cards()))"
   ]
  },
  {
   "cell_type": "code",
   "execution_count": null,
   "metadata": {},
   "outputs": [],
   "source": [
    "# deck   = Deck()\n",
    "\n",
    "# for color in colors:\n",
    "#     card_color = color\n",
    "#     for card_type in types:\n",
    "#         card = Card(card_color,card_type)\n",
    "#         deck.add(card)\n",
    "\n",
    "# deck.shuffle()"
   ]
  }
 ],
 "metadata": {
  "interpreter": {
   "hash": "5659fd35b6212484401d90b73300743e050840c8e702032db44d891170c73ae7"
  },
  "kernelspec": {
   "display_name": "Python 3.7.9 64-bit ('myenv_conda': conda)",
   "name": "python3"
  },
  "language_info": {
   "codemirror_mode": {
    "name": "ipython",
    "version": 3
   },
   "file_extension": ".py",
   "mimetype": "text/x-python",
   "name": "python",
   "nbconvert_exporter": "python",
   "pygments_lexer": "ipython3",
   "version": "3.7.9"
  },
  "orig_nbformat": 4
 },
 "nbformat": 4,
 "nbformat_minor": 2
}
