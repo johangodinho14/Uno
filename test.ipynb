{
 "cells": [
  {
   "cell_type": "code",
   "execution_count": 11,
   "metadata": {},
   "outputs": [
    {
     "data": {
      "text/plain": [
       "[]"
      ]
     },
     "execution_count": 11,
     "metadata": {},
     "output_type": "execute_result"
    }
   ],
   "source": [
    "from modules.card import Card\n",
    "from modules.deck import Deck\n",
    "from modules.hand import Hand\n",
    "from modules.system import System\n",
    "\n",
    "\n",
    "# deck = Deck()\n",
    "# deck.populate_deck()\n",
    "# deck.shuffle()\n",
    "# print(len(deck.get_cards()))\n",
    "# deck.draw(player_hand=player_hand,amount=50)\n",
    "# print(len(deck.get_cards()))\n",
    "\n"
   ]
  },
  {
   "cell_type": "code",
   "execution_count": 4,
   "metadata": {},
   "outputs": [],
   "source": [
    "\n",
    "# player_1_hand = Hand()\n",
    "\n",
    "# print(\"The deck has \",len(deck.get_cards()))\n",
    "# print(\"Player hand has \",len(player_1_hand.get_cards()))\n",
    "\n",
    "# deck.draw(player_1_hand,10)\n",
    "\n",
    "# print(\"The deck has \",len(deck.get_cards()))\n",
    "# print(\"Player hand has \",len(player_1_hand.get_cards()))"
   ]
  },
  {
   "cell_type": "code",
   "execution_count": null,
   "metadata": {},
   "outputs": [],
   "source": [
    "# deck   = Deck()\n",
    "\n",
    "# for color in colors:\n",
    "#     card_color = color\n",
    "#     for card_type in types:\n",
    "#         card = Card(card_color,card_type)\n",
    "#         deck.add(card)\n",
    "\n",
    "# deck.shuffle()"
   ]
  }
 ],
 "metadata": {
  "interpreter": {
   "hash": "5659fd35b6212484401d90b73300743e050840c8e702032db44d891170c73ae7"
  },
  "kernelspec": {
   "display_name": "Python 3.7.9 64-bit ('myenv_conda': conda)",
   "name": "python3"
  },
  "language_info": {
   "codemirror_mode": {
    "name": "ipython",
    "version": 3
   },
   "file_extension": ".py",
   "mimetype": "text/x-python",
   "name": "python",
   "nbconvert_exporter": "python",
   "pygments_lexer": "ipython3",
   "version": "3.7.9"
  },
  "orig_nbformat": 4
 },
 "nbformat": 4,
 "nbformat_minor": 2
}
