{
 "cells": [
  {
   "cell_type": "code",
   "execution_count": 1,
   "metadata": {},
   "outputs": [
    {
     "name": "stdout",
     "output_type": "stream",
     "text": [
      "Player 1 cards : \n",
      "Card count :  7\n",
      "Your cards -> \n",
      "\n",
      "1. BLUE 5\n",
      "2. BLUE 2\n",
      "3. YELLOW DRAW 4\n",
      "4. RED 6\n",
      "5. YELLOW SKIP\n",
      "6. YELLOW 7\n",
      "7. RED 4\n",
      "\n",
      "Player 2 cards : \n",
      "Card count :  7\n",
      "Your cards -> \n",
      "\n",
      "1. YELLOW 8\n",
      "2. RED 1\n",
      "3. GREEN 8\n",
      "4. YELLOW REVERSE\n",
      "5. YELLOW 4\n",
      "6. BLUE SKIP\n",
      "7. BLUE 9\n"
     ]
    }
   ],
   "source": [
    "from modules.card import Card\n",
    "from modules.deck import Deck\n",
    "from modules.hand import Hand\n",
    "from modules.system import System\n",
    "\n",
    "# Starting the game\n",
    "deck = Deck()\n",
    "deck.populate_deck()\n",
    "deck.shuffle()\n",
    "\n",
    "# Player hands\n",
    "computer_hand = Hand()\n",
    "player_hand = Hand()\n",
    "\n",
    "# Serving cards to players\n",
    "deck.draw(computer_hand,amount=7)\n",
    "deck.draw(player_hand,amount=7)\n",
    "\n",
    "print(\"Player 1 cards : \")\n",
    "computer_hand.show_cards()\n",
    "print(\"\")\n",
    "print(\"Player 2 cards : \")\n",
    "player_hand.show_cards()\n",
    "\n"
   ]
  },
  {
   "cell_type": "code",
   "execution_count": 29,
   "metadata": {},
   "outputs": [
    {
     "ename": "IndexError",
     "evalue": "list index out of range",
     "output_type": "error",
     "traceback": [
      "\u001b[1;31m---------------------------------------------------------------------------\u001b[0m",
      "\u001b[1;31mIndexError\u001b[0m                                Traceback (most recent call last)",
      "\u001b[1;32m<ipython-input-29-8229deac159a>\u001b[0m in \u001b[0;36m<module>\u001b[1;34m\u001b[0m\n\u001b[0;32m      4\u001b[0m     \u001b[1;32mif\u001b[0m \u001b[0mplayer_selected_option\u001b[0m \u001b[1;33m>\u001b[0m \u001b[1;36m0\u001b[0m\u001b[1;33m:\u001b[0m\u001b[1;33m\u001b[0m\u001b[1;33m\u001b[0m\u001b[0m\n\u001b[0;32m      5\u001b[0m         \u001b[1;31m#Match here\u001b[0m\u001b[1;33m\u001b[0m\u001b[1;33m\u001b[0m\u001b[1;33m\u001b[0m\u001b[0m\n\u001b[1;32m----> 6\u001b[1;33m         \u001b[0mplayer_hand\u001b[0m\u001b[1;33m.\u001b[0m\u001b[0mtransfer_card\u001b[0m\u001b[1;33m(\u001b[0m\u001b[0mplayer_hand\u001b[0m\u001b[1;33m.\u001b[0m\u001b[0mget_cards\u001b[0m\u001b[1;33m(\u001b[0m\u001b[1;33m)\u001b[0m\u001b[1;33m[\u001b[0m\u001b[0mplayer_selected_option\u001b[0m\u001b[1;33m-\u001b[0m\u001b[1;36m1\u001b[0m\u001b[1;33m]\u001b[0m\u001b[1;33m,\u001b[0m\u001b[0mdeck\u001b[0m\u001b[1;33m)\u001b[0m\u001b[1;33m\u001b[0m\u001b[1;33m\u001b[0m\u001b[0m\n\u001b[0m\u001b[0;32m      7\u001b[0m     \u001b[1;32melse\u001b[0m\u001b[1;33m:\u001b[0m\u001b[1;33m\u001b[0m\u001b[1;33m\u001b[0m\u001b[0m\n\u001b[0;32m      8\u001b[0m         \u001b[0mprint\u001b[0m\u001b[1;33m(\u001b[0m\u001b[1;34m\"You have selected an invalid card\"\u001b[0m\u001b[1;33m)\u001b[0m\u001b[1;33m\u001b[0m\u001b[1;33m\u001b[0m\u001b[0m\n",
      "\u001b[1;31mIndexError\u001b[0m: list index out of range"
     ]
    }
   ],
   "source": [
    "player_action = input(str(\"1. Use card from hand \\n 2. Pull a card from the deck\"))\n",
    "if player_action == \"1\":\n",
    "    player_selected_option = int(input(\"What card would you like to use : \"))\n",
    "    if player_selected_option > 0:\n",
    "        #Match here\n",
    "        player_hand.transfer_card(player_hand.get_cards()[player_selected_option-1],deck)\n",
    "    else:\n",
    "        print(\"You have selected an invalid card\")\n",
    "else:\n",
    "    deck.draw(player_hand=player_hand,amount=1)"
   ]
  },
  {
   "cell_type": "code",
   "execution_count": 30,
   "metadata": {},
   "outputs": [
    {
     "name": "stdout",
     "output_type": "stream",
     "text": [
      "Deck   :  53\n",
      "Player :  0\n"
     ]
    }
   ],
   "source": [
    "print(\"Deck   : \", len(deck.get_cards()))\n",
    "print(\"Player : \", len(player_hand.get_cards()))\n"
   ]
  },
  {
   "cell_type": "code",
   "execution_count": null,
   "metadata": {},
   "outputs": [],
   "source": []
  }
 ],
 "metadata": {
  "interpreter": {
   "hash": "5659fd35b6212484401d90b73300743e050840c8e702032db44d891170c73ae7"
  },
  "kernelspec": {
   "display_name": "Python 3.7.9 64-bit ('myenv_conda': conda)",
   "name": "python3"
  },
  "language_info": {
   "codemirror_mode": {
    "name": "ipython",
    "version": 3
   },
   "file_extension": ".py",
   "mimetype": "text/x-python",
   "name": "python",
   "nbconvert_exporter": "python",
   "pygments_lexer": "ipython3",
   "version": "3.7.9"
  },
  "orig_nbformat": 4
 },
 "nbformat": 4,
 "nbformat_minor": 2
}
