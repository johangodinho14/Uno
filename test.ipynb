{
 "cells": [],
 "metadata": {
  "interpreter": {
   "hash": "5659fd35b6212484401d90b73300743e050840c8e702032db44d891170c73ae7"
  },
  "kernelspec": {
   "display_name": "Python 3.7.9 64-bit ('myenv_conda': conda)",
   "name": "python3"
  },
  "language_info": {
   "codemirror_mode": {
    "name": "ipython",
    "version": 3
   },
   "file_extension": ".py",
   "mimetype": "text/x-python",
   "name": "python",
   "nbconvert_exporter": "python",
   "pygments_lexer": "ipython3",
   "version": "3.7.9"
  },
  "orig_nbformat": 4
 },
 "nbformat": 4,
 "nbformat_minor": 2
}
