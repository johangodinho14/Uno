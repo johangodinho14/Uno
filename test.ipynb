{
 "cells": [
  {
   "cell_type": "code",
   "execution_count": 8,
   "metadata": {},
   "outputs": [
    {
     "name": "stdout",
     "output_type": "stream",
     "text": [
      "RED 8\n"
     ]
    }
   ],
   "source": [
    "from modules.card import Card\n",
    "from modules.deck import Deck\n",
    "from modules.hand import Hand\n",
    "from modules.system import System\n",
    "\n",
    "\n",
    "deck = Deck()\n",
    "deck.populate_deck()\n",
    "deck.shuffle()\n",
    "print(deck.get_cards()[0].id)\n",
    "\n",
    "\n",
    "\n"
   ]
  },
  {
   "cell_type": "code",
   "execution_count": 4,
   "metadata": {},
   "outputs": [],
   "source": [
    "\n",
    "# player_1_hand = Hand()\n",
    "\n",
    "# print(\"The deck has \",len(deck.get_cards()))\n",
    "# print(\"Player hand has \",len(player_1_hand.get_cards()))\n",
    "\n",
    "# deck.draw(player_1_hand,10)\n",
    "\n",
    "# print(\"The deck has \",len(deck.get_cards()))\n",
    "# print(\"Player hand has \",len(player_1_hand.get_cards()))"
   ]
  },
  {
   "cell_type": "code",
   "execution_count": null,
   "metadata": {},
   "outputs": [],
   "source": []
  }
 ],
 "metadata": {
  "interpreter": {
   "hash": "5659fd35b6212484401d90b73300743e050840c8e702032db44d891170c73ae7"
  },
  "kernelspec": {
   "display_name": "Python 3.7.9 64-bit ('myenv_conda': conda)",
   "name": "python3"
  },
  "language_info": {
   "codemirror_mode": {
    "name": "ipython",
    "version": 3
   },
   "file_extension": ".py",
   "mimetype": "text/x-python",
   "name": "python",
   "nbconvert_exporter": "python",
   "pygments_lexer": "ipython3",
   "version": "3.7.9"
  },
  "orig_nbformat": 4
 },
 "nbformat": 4,
 "nbformat_minor": 2
}
